{
 "cells": [
  {
   "cell_type": "markdown",
   "metadata": {},
   "source": [
    "# Práctica de visualización de datos"
   ]
  },
  {
   "cell_type": "markdown",
   "metadata": {},
   "source": [
    "En este cuaderno aprenderemos a cargar datos, hacer manipulaciones básicas, y crear visualizaciones. Un estupendo libro sobre estos temas (en inglés) es [Python Data Science Handbook](https://jakevdp.github.io/PythonDataScienceHandbook/index.html). Y por supuesto la mejor forma de aprender cómo hacer alguna cosa, o cómo usar una librería concreta es mediante tu buscador favorito.\n",
    "\n",
    "Empecemos siempre por cargar las librerías que utilizaremos:"
   ]
  },
  {
   "cell_type": "code",
   "execution_count": 1,
   "metadata": {},
   "outputs": [],
   "source": [
    "import numpy as np              # librería de calculo numérico y vectorial\n",
    "import pandas as pd             # librería para tratar bases de datos\n",
    "import matplotlib.pyplot as plt # librería para crear visualizaciones"
   ]
  },
  {
   "cell_type": "markdown",
   "metadata": {},
   "source": [
    "## Obteniendo datos"
   ]
  },
  {
   "cell_type": "markdown",
   "metadata": {},
   "source": [
    "Hoy en día hay miles de bases de datos disponibles por internet. Podéis probar a buscar en los siguientes sitios:\n",
    " * [Instituto Nacional de Estadística](http://ine.es/) donde se recopilan estadísticas oficiales en España\n",
    " * [Eurostat](http://ec.europa.eu/eurostat/data/database) para estadísticas europeas\n",
    " * [Gapminder](https://www.gapminder.org/) montones de datos sobre diferentes temáticas\n",
    " * [Kaggle](https://www.kaggle.com/datasets) otra fuente de bases de datos, aquí también podéis participar en desafíos de análisis de datos."
   ]
  },
  {
   "cell_type": "markdown",
   "metadata": {},
   "source": [
    "En este cuaderno utilizaremos los datos de Eurostat sobre energía solar:\n",
    "* Superficie de recolectores de energía solar [nrg_115a](http://ec.europa.eu/eurostat/web/products-datasets/-/nrg_115a), la explicación para los datos puede encontrarse [aquí](http://ec.europa.eu/eurostat/cache/metadata/en/nrg_115a_esms.htm).\n",
    "* Producción de energía por tipo [ten00081](http://ec.europa.eu/eurostat/web/products-datasets/-/ten00081)"
   ]
  },
  {
   "cell_type": "markdown",
   "metadata": {},
   "source": [
    "Lo primero que debemos hacer es descargar los archivos de datos en formato `tsv` y guardarlos en una carpeta adecuada. Por ejemplo:"
   ]
  },
  {
   "cell_type": "code",
   "execution_count": 2,
   "metadata": {},
   "outputs": [],
   "source": [
    "# Reemplazar por la dirección en la que guardasteis los datos\n",
    "surfacePath = 'datos/nrg_115a.tsv' \n",
    "productionPath ='datos/ten00081.tsv'"
   ]
  },
  {
   "cell_type": "markdown",
   "metadata": {},
   "source": [
    "Después hay que cargar los datos, para ello utilizaremos `pandas` que es la librería más usada en python para analizar datos. Cada base de datos tiene sus problemas, y normalmente es necesario tratar los datos antes de poder analizarlos. Esto suele ser gran parte del tiempo de cualquier análisis de datos. Para esta base de datos vamos a utilizar la siguiente función que hará todo ese trabajo por nosotros. Puedes ignorar el código en ella de momento."
   ]
  },
  {
   "cell_type": "code",
   "execution_count": 3,
   "metadata": {},
   "outputs": [],
   "source": [
    "# Ignorar al principio\n",
    "def loadSurfaceData(path):\n",
    "    df = pd.read_csv(path, sep=\"\\t\")      # Leemos los datos en la tabla\n",
    "    df = df.rename(columns={df.columns[0]:\"index\"})       # Cambiamos el nombre a la primera columna\n",
    "    \n",
    "    # La primera columna está formada por una cadena separada con `,` la última parte es el país que es lo\n",
    "    # único que nos interesa de momento:\n",
    "    df[\"index\"] = df[\"index\"].str.split(\",\").str[-1]\n",
    "    df = df.set_index([\"index\"])                          # Elegimos los países como índice de nuestro Dataframe\n",
    "    df = df.transpose().reset_index()                     # Transponemos el dataframe, y convertimos el índice\n",
    "                                                          # (que ahora está formado por años) en una columna\n",
    "    df = df.rename(columns={df.columns[0]:\"year\"})        # Cambiamos el nombre a esta columna\n",
    "    \n",
    "    # La tabla contiene algunas entradas con el símbolo `:`, suponemos que para indicar que no hay datos\n",
    "    # Por ello pandas interpreta las columnas como cadenas (string), con este bucle convertimos todas las\n",
    "    # entradas en numérico, transformando los `:` en NaN (Not a Number), que son más cómodos para trabajar.\n",
    "    for col in df.columns:\n",
    "        df[col] = pd.to_numeric(df[col], errors='coerce')\n",
    "        \n",
    "    df = df.sort_values(\"year\")  # Finalmente ordenamos el dataframe por años                         \n",
    "    df = df.set_index([\"year\"])  # Y establecemos los años como índice de nuevo\n",
    "    return df"
   ]
  },
  {
   "cell_type": "code",
   "execution_count": 4,
   "metadata": {},
   "outputs": [],
   "source": [
    "# Así cargamos los datos limpiamente\n",
    "surfaceData = loadSurfaceData(surfacePath)"
   ]
  },
  {
   "cell_type": "markdown",
   "metadata": {},
   "source": [
    "Ahora que tenemos los datos de superficie de recolectores instalados es hora de observar los datos."
   ]
  },
  {
   "cell_type": "code",
   "execution_count": 5,
   "metadata": {
    "scrolled": false
   },
   "outputs": [
    {
     "data": {
      "text/html": [
       "<div>\n",
       "<style scoped>\n",
       "    .dataframe tbody tr th:only-of-type {\n",
       "        vertical-align: middle;\n",
       "    }\n",
       "\n",
       "    .dataframe tbody tr th {\n",
       "        vertical-align: top;\n",
       "    }\n",
       "\n",
       "    .dataframe thead th {\n",
       "        text-align: right;\n",
       "    }\n",
       "</style>\n",
       "<table border=\"1\" class=\"dataframe\">\n",
       "  <thead>\n",
       "    <tr style=\"text-align: right;\">\n",
       "      <th>index</th>\n",
       "      <th>AL</th>\n",
       "      <th>AT</th>\n",
       "      <th>BA</th>\n",
       "      <th>BE</th>\n",
       "      <th>BG</th>\n",
       "      <th>CY</th>\n",
       "      <th>CZ</th>\n",
       "      <th>DE</th>\n",
       "      <th>DK</th>\n",
       "      <th>EA19</th>\n",
       "      <th>...</th>\n",
       "      <th>PT</th>\n",
       "      <th>RO</th>\n",
       "      <th>RS</th>\n",
       "      <th>SE</th>\n",
       "      <th>SI</th>\n",
       "      <th>SK</th>\n",
       "      <th>TR</th>\n",
       "      <th>UA</th>\n",
       "      <th>UK</th>\n",
       "      <th>XK</th>\n",
       "    </tr>\n",
       "    <tr>\n",
       "      <th>year</th>\n",
       "      <th></th>\n",
       "      <th></th>\n",
       "      <th></th>\n",
       "      <th></th>\n",
       "      <th></th>\n",
       "      <th></th>\n",
       "      <th></th>\n",
       "      <th></th>\n",
       "      <th></th>\n",
       "      <th></th>\n",
       "      <th></th>\n",
       "      <th></th>\n",
       "      <th></th>\n",
       "      <th></th>\n",
       "      <th></th>\n",
       "      <th></th>\n",
       "      <th></th>\n",
       "      <th></th>\n",
       "      <th></th>\n",
       "      <th></th>\n",
       "      <th></th>\n",
       "    </tr>\n",
       "  </thead>\n",
       "  <tbody>\n",
       "    <tr>\n",
       "      <th>1990</th>\n",
       "      <td>0</td>\n",
       "      <td>461</td>\n",
       "      <td>0</td>\n",
       "      <td>34</td>\n",
       "      <td>0</td>\n",
       "      <td>NaN</td>\n",
       "      <td>0</td>\n",
       "      <td>348</td>\n",
       "      <td>57</td>\n",
       "      <td>3494</td>\n",
       "      <td>...</td>\n",
       "      <td>150</td>\n",
       "      <td>0</td>\n",
       "      <td>0</td>\n",
       "      <td>90</td>\n",
       "      <td>0</td>\n",
       "      <td>0</td>\n",
       "      <td>0</td>\n",
       "      <td>0</td>\n",
       "      <td>205</td>\n",
       "      <td>NaN</td>\n",
       "    </tr>\n",
       "    <tr>\n",
       "      <th>1991</th>\n",
       "      <td>0</td>\n",
       "      <td>584</td>\n",
       "      <td>0</td>\n",
       "      <td>36</td>\n",
       "      <td>0</td>\n",
       "      <td>NaN</td>\n",
       "      <td>0</td>\n",
       "      <td>478</td>\n",
       "      <td>69</td>\n",
       "      <td>3972</td>\n",
       "      <td>...</td>\n",
       "      <td>170</td>\n",
       "      <td>0</td>\n",
       "      <td>0</td>\n",
       "      <td>10</td>\n",
       "      <td>0</td>\n",
       "      <td>0</td>\n",
       "      <td>0</td>\n",
       "      <td>0</td>\n",
       "      <td>216</td>\n",
       "      <td>NaN</td>\n",
       "    </tr>\n",
       "    <tr>\n",
       "      <th>1992</th>\n",
       "      <td>0</td>\n",
       "      <td>724</td>\n",
       "      <td>0</td>\n",
       "      <td>36</td>\n",
       "      <td>0</td>\n",
       "      <td>NaN</td>\n",
       "      <td>0</td>\n",
       "      <td>594</td>\n",
       "      <td>85</td>\n",
       "      <td>4434</td>\n",
       "      <td>...</td>\n",
       "      <td>178</td>\n",
       "      <td>0</td>\n",
       "      <td>0</td>\n",
       "      <td>110</td>\n",
       "      <td>0</td>\n",
       "      <td>0</td>\n",
       "      <td>0</td>\n",
       "      <td>0</td>\n",
       "      <td>225</td>\n",
       "      <td>NaN</td>\n",
       "    </tr>\n",
       "    <tr>\n",
       "      <th>1993</th>\n",
       "      <td>0</td>\n",
       "      <td>873</td>\n",
       "      <td>0</td>\n",
       "      <td>36</td>\n",
       "      <td>0</td>\n",
       "      <td>NaN</td>\n",
       "      <td>0</td>\n",
       "      <td>762</td>\n",
       "      <td>103</td>\n",
       "      <td>4921</td>\n",
       "      <td>...</td>\n",
       "      <td>185</td>\n",
       "      <td>0</td>\n",
       "      <td>0</td>\n",
       "      <td>118</td>\n",
       "      <td>0</td>\n",
       "      <td>0</td>\n",
       "      <td>0</td>\n",
       "      <td>0</td>\n",
       "      <td>235</td>\n",
       "      <td>NaN</td>\n",
       "    </tr>\n",
       "    <tr>\n",
       "      <th>1994</th>\n",
       "      <td>0</td>\n",
       "      <td>1037</td>\n",
       "      <td>0</td>\n",
       "      <td>36</td>\n",
       "      <td>0</td>\n",
       "      <td>NaN</td>\n",
       "      <td>0</td>\n",
       "      <td>957</td>\n",
       "      <td>124</td>\n",
       "      <td>5430</td>\n",
       "      <td>...</td>\n",
       "      <td>193</td>\n",
       "      <td>0</td>\n",
       "      <td>0</td>\n",
       "      <td>125</td>\n",
       "      <td>0</td>\n",
       "      <td>0</td>\n",
       "      <td>0</td>\n",
       "      <td>0</td>\n",
       "      <td>243</td>\n",
       "      <td>NaN</td>\n",
       "    </tr>\n",
       "  </tbody>\n",
       "</table>\n",
       "<p>5 rows × 42 columns</p>\n",
       "</div>"
      ],
      "text/plain": [
       "index  AL    AT  BA  BE  BG  CY  CZ   DE   DK  EA19 ...   PT  RO  RS   SE  SI  \\\n",
       "year                                                ...                         \n",
       "1990    0   461   0  34   0 NaN   0  348   57  3494 ...  150   0   0   90   0   \n",
       "1991    0   584   0  36   0 NaN   0  478   69  3972 ...  170   0   0   10   0   \n",
       "1992    0   724   0  36   0 NaN   0  594   85  4434 ...  178   0   0  110   0   \n",
       "1993    0   873   0  36   0 NaN   0  762  103  4921 ...  185   0   0  118   0   \n",
       "1994    0  1037   0  36   0 NaN   0  957  124  5430 ...  193   0   0  125   0   \n",
       "\n",
       "index  SK  TR  UA   UK  XK  \n",
       "year                        \n",
       "1990    0   0   0  205 NaN  \n",
       "1991    0   0   0  216 NaN  \n",
       "1992    0   0   0  225 NaN  \n",
       "1993    0   0   0  235 NaN  \n",
       "1994    0   0   0  243 NaN  \n",
       "\n",
       "[5 rows x 42 columns]"
      ]
     },
     "execution_count": 5,
     "metadata": {},
     "output_type": "execute_result"
    }
   ],
   "source": [
    "surfaceData.head()"
   ]
  },
  {
   "cell_type": "markdown",
   "metadata": {},
   "source": [
    "Podemos ver las dimensiones de nuestro dataframe con `shape`"
   ]
  },
  {
   "cell_type": "code",
   "execution_count": 6,
   "metadata": {},
   "outputs": [
    {
     "data": {
      "text/plain": [
       "(27, 42)"
      ]
     },
     "execution_count": 6,
     "metadata": {},
     "output_type": "execute_result"
    }
   ],
   "source": [
    "surfaceData.shape"
   ]
  },
  {
   "cell_type": "markdown",
   "metadata": {},
   "source": [
    "_Preguntas:_\n",
    "- ¿Cuántos años hay disponibles en la base de datos?\n",
    "- ¿En qué unidades están los datos?\n",
    "- ¿A qué países corresponden las columnas de los datos?\n",
    "- ¿Cuántos países hay representados en los datos?\n",
    "- ¿Qué ocurre si sumas un número y un NaN?"
   ]
  },
  {
   "cell_type": "code",
   "execution_count": null,
   "metadata": {},
   "outputs": [],
   "source": []
  },
  {
   "cell_type": "markdown",
   "metadata": {},
   "source": [
    "### La regla de oro para Jupyter Notebook"
   ]
  },
  {
   "cell_type": "markdown",
   "metadata": {},
   "source": [
    "[Jake VanderPlas](https://jakevdp.github.io/) dice que la regla de oro para trabajar con Jupyter Notebook es utilizar la opción `Restart & Run All` en el menú `Kernel` una vez terminamos de modificar nuestro cuaderno. Si todas las celdas se ejecutan sin dar errores podemos quedar bastante tranquilos. Nunca dejes un cuaderno a medias sin aplicar esta regla, te salvará muchos quebraderos de cabeza."
   ]
  },
  {
   "cell_type": "markdown",
   "metadata": {},
   "source": [
    "## Explorando los datos"
   ]
  },
  {
   "cell_type": "markdown",
   "metadata": {},
   "source": [
    "Otra pregunta: ¿Qué país tiene más superficie de receptores instalada en el año 2016?\n",
    "\n",
    "Veamos como podemos resolver esta pregunta, en primer lugar necesitamos los datos del año 2016 que podemos obtener de la siguiente manera:"
   ]
  },
  {
   "cell_type": "code",
   "execution_count": 7,
   "metadata": {},
   "outputs": [
    {
     "data": {
      "text/plain": [
       "index\n",
       "EU28    50070.0\n",
       "EA19    43217.0\n",
       "TR      20080.0\n",
       "DE      19122.0\n",
       "AT       5210.0\n",
       "Name: 2016, dtype: float64"
      ]
     },
     "execution_count": 7,
     "metadata": {},
     "output_type": "execute_result"
    }
   ],
   "source": [
    "data2016 = surfaceData.loc[2016]\n",
    "data2016.sort_values(ascending=False).head()"
   ]
  },
  {
   "cell_type": "markdown",
   "metadata": {},
   "source": [
    "Podemos ver que los primeros lugares no son para un país sino para uniones de varios: La Union Europea (28 países), y la Zona Euro (19 países). En cuanto a países individuales, los que tienen mayor superficie instalada son Turquía (TR), Alemania (DE) y Austria (AT)\n",
    "\n",
    "- ¿Podrías obtener los países con menos superficie instalada?\n",
    "- ¿Y sólo entre países de la UE28?"
   ]
  },
  {
   "cell_type": "code",
   "execution_count": null,
   "metadata": {},
   "outputs": [],
   "source": []
  },
  {
   "cell_type": "markdown",
   "metadata": {},
   "source": [
    "Veamos como calcular estadísticas básicas con estos datos. En primer lugar, vamos a desacernos de las columnas que no corresponden a países, para evitar producir resultados absurdos:"
   ]
  },
  {
   "cell_type": "code",
   "execution_count": 8,
   "metadata": {},
   "outputs": [],
   "source": [
    "countrySurfaceData = surfaceData.drop([\"EU28\", \"EA19\"],1)"
   ]
  },
  {
   "cell_type": "markdown",
   "metadata": {},
   "source": [
    "En segundo lugar vamos a calcular estadísticas entre países para años concretos, así que nos interesa el dataframe transpuesto:"
   ]
  },
  {
   "cell_type": "code",
   "execution_count": 9,
   "metadata": {},
   "outputs": [],
   "source": [
    "surfaceDataByCountry = countrySurfaceData.transpose()"
   ]
  },
  {
   "cell_type": "markdown",
   "metadata": {},
   "source": [
    "Calculamos el máximo, el mínimo, la media, y la desviación estandar de la superficie en el año 2015"
   ]
  },
  {
   "cell_type": "code",
   "execution_count": 10,
   "metadata": {
    "scrolled": true
   },
   "outputs": [
    {
     "data": {
      "text/plain": [
       "19690.0"
      ]
     },
     "execution_count": 10,
     "metadata": {},
     "output_type": "execute_result"
    }
   ],
   "source": [
    "surfaceDataByCountry[2015].max()"
   ]
  },
  {
   "cell_type": "code",
   "execution_count": 11,
   "metadata": {},
   "outputs": [
    {
     "data": {
      "text/plain": [
       "0.0"
      ]
     },
     "execution_count": 11,
     "metadata": {},
     "output_type": "execute_result"
    }
   ],
   "source": [
    "surfaceDataByCountry[2015].min()"
   ]
  },
  {
   "cell_type": "code",
   "execution_count": 12,
   "metadata": {},
   "outputs": [
    {
     "data": {
      "text/plain": [
       "1748.871794871795"
      ]
     },
     "execution_count": 12,
     "metadata": {},
     "output_type": "execute_result"
    }
   ],
   "source": [
    "surfaceDataByCountry[2015].mean()"
   ]
  },
  {
   "cell_type": "code",
   "execution_count": 13,
   "metadata": {},
   "outputs": [
    {
     "data": {
      "text/plain": [
       "4304.020508287858"
      ]
     },
     "execution_count": 13,
     "metadata": {},
     "output_type": "execute_result"
    }
   ],
   "source": [
    "surfaceDataByCountry[2015].std()"
   ]
  },
  {
   "cell_type": "markdown",
   "metadata": {},
   "source": [
    "## Visualizando datos"
   ]
  },
  {
   "cell_type": "markdown",
   "metadata": {},
   "source": [
    "Podemos ver que hay muchísima variedad entre los países. Tanta que la media puede no ser representativa. Podemos comprobar esto dibujando un histograma con estos datos (aunque hay otras formas de verlo):"
   ]
  },
  {
   "cell_type": "code",
   "execution_count": 14,
   "metadata": {
    "scrolled": true
   },
   "outputs": [
    {
     "data": {
      "image/png": "[encoded data removed]",
      "text/plain": [
       "<matplotlib.figure.Figure at 0x1145b1320>"
      ]
     },
     "metadata": {},
     "output_type": "display_data"
    }
   ],
   "source": [
    "bins = np.linspace(0, surfaceDataByCountry[2015].max(), num=30)\n",
    "\n",
    "plt.hist(surfaceDataByCountry[2015].dropna(), bins=bins)\n",
    "plt.title(\"Distribución de países por superficie instalada\")\n",
    "plt.xlabel(\"Superficie receptora (1000 m^2)\")\n",
    "plt.ylabel(\"Número de países\")\n",
    "plt.show()"
   ]
  },
  {
   "cell_type": "markdown",
   "metadata": {},
   "source": [
    "Podemos ver que la mayoría de los países tienen muy poca superficie, y hay un par de ellos que tienen mucho más que los demás.\n",
    "\n",
    "* ¿Es representativa la media de la superficie instalada entre países?"
   ]
  },
  {
   "cell_type": "markdown",
   "metadata": {},
   "source": [
    "Veamos ahora otro tipo de visualización. ¿Cómo evolucionó la instalación de receptores solares en diversos países? Podemos utilizar el siguiente código para verlo."
   ]
  },
  {
   "cell_type": "code",
   "execution_count": 15,
   "metadata": {},
   "outputs": [
    {
     "data": {
      "image/png": "[encoded data removed]",
      "text/plain": [
       "<matplotlib.figure.Figure at 0x1145b1208>"
      ]
     },
     "metadata": {},
     "output_type": "display_data"
    }
   ],
   "source": [
    "plt.plot(surfaceData[\"ES\"], color=\"red\", label=\"España\")\n",
    "plt.plot(surfaceData[\"DE\"], color=\"green\", label=\"Alemania\")\n",
    "plt.plot(surfaceData[\"FR\"], color=\"blue\", label=\"Francia\")\n",
    "plt.xticks(surfaceData.index, rotation=\"vertical\")\n",
    "plt.title(\"Evolución de la superficie instalada\")\n",
    "plt.xlabel(\"Año\")\n",
    "plt.ylabel(\"Superficie receptora (1000 m^2)\")\n",
    "plt.legend()\n",
    "plt.show()"
   ]
  },
  {
   "cell_type": "markdown",
   "metadata": {},
   "source": [
    "* Intenta dibujar la evolución de superficie instalada en Austria y la Unión Europea"
   ]
  },
  {
   "cell_type": "code",
   "execution_count": null,
   "metadata": {},
   "outputs": [],
   "source": []
  },
  {
   "cell_type": "markdown",
   "metadata": {},
   "source": [
    "## Visualizando varias variables a la vez"
   ]
  },
  {
   "cell_type": "markdown",
   "metadata": {},
   "source": [
    "Veamos a continuación como visualizar la relación entre varias variables. De momento sólo disponemos de la superficie instalada. Obtengamos a continuación la energía solar producida por cada país:"
   ]
  },
  {
   "cell_type": "code",
   "execution_count": 16,
   "metadata": {},
   "outputs": [],
   "source": [
    "def loadSolarProductionData(path):\n",
    "    energyByType = pd.read_csv(path, sep=\"\\t\", index_col=0)\n",
    "    energyByType.index = pd.MultiIndex.from_tuples(energyByType.index.str.split(\",\").tolist())\n",
    "    total = energyByType.reset_index()\n",
    "    # Estos son los dos tipos de energía solar térmica y fotovoltáica\n",
    "    solar = total[(total[\"level_1\"] == \"5534\") | (total[\"level_1\"] == \"5532\")]\n",
    "    solar = solar.drop([\"level_0\", \"level_1\", \"level_2\"], 1)\n",
    "    solar = solar.rename(columns={\"level_3\":\"index\"}).set_index(\"index\")\n",
    "    solar = solar.transpose().reset_index()\n",
    "    solar[\"index\"] = pd.to_numeric(solar[\"index\"])\n",
    "    solar = solar.set_index(\"index\").transpose()\n",
    "    for col in solar.columns:\n",
    "        solar[col] = pd.to_numeric(solar[col], errors='coerce')\n",
    "    # De esta forma agregamos la energía solar y fotovoltáica\n",
    "    solar = solar.reset_index().groupby(\"index\").sum()\n",
    "    return solar.transpose()"
   ]
  },
  {
   "cell_type": "code",
   "execution_count": 17,
   "metadata": {},
   "outputs": [],
   "source": [
    "solarProduction = loadSolarProductionData(productionPath)"
   ]
  },
  {
   "cell_type": "code",
   "execution_count": 18,
   "metadata": {
    "scrolled": true
   },
   "outputs": [
    {
     "data": {
      "text/html": [
       "<div>\n",
       "<style scoped>\n",
       "    .dataframe tbody tr th:only-of-type {\n",
       "        vertical-align: middle;\n",
       "    }\n",
       "\n",
       "    .dataframe tbody tr th {\n",
       "        vertical-align: top;\n",
       "    }\n",
       "\n",
       "    .dataframe thead th {\n",
       "        text-align: right;\n",
       "    }\n",
       "</style>\n",
       "<table border=\"1\" class=\"dataframe\">\n",
       "  <thead>\n",
       "    <tr style=\"text-align: right;\">\n",
       "      <th>index</th>\n",
       "      <th>AL</th>\n",
       "      <th>AT</th>\n",
       "      <th>BA</th>\n",
       "      <th>BE</th>\n",
       "      <th>BG</th>\n",
       "      <th>CY</th>\n",
       "      <th>CZ</th>\n",
       "      <th>DE</th>\n",
       "      <th>DK</th>\n",
       "      <th>EA19</th>\n",
       "      <th>...</th>\n",
       "      <th>PT</th>\n",
       "      <th>RO</th>\n",
       "      <th>RS</th>\n",
       "      <th>SE</th>\n",
       "      <th>SI</th>\n",
       "      <th>SK</th>\n",
       "      <th>TR</th>\n",
       "      <th>UA</th>\n",
       "      <th>UK</th>\n",
       "      <th>XK</th>\n",
       "    </tr>\n",
       "    <tr>\n",
       "      <th>index</th>\n",
       "      <th></th>\n",
       "      <th></th>\n",
       "      <th></th>\n",
       "      <th></th>\n",
       "      <th></th>\n",
       "      <th></th>\n",
       "      <th></th>\n",
       "      <th></th>\n",
       "      <th></th>\n",
       "      <th></th>\n",
       "      <th></th>\n",
       "      <th></th>\n",
       "      <th></th>\n",
       "      <th></th>\n",
       "      <th></th>\n",
       "      <th></th>\n",
       "      <th></th>\n",
       "      <th></th>\n",
       "      <th></th>\n",
       "      <th></th>\n",
       "      <th></th>\n",
       "    </tr>\n",
       "  </thead>\n",
       "  <tbody>\n",
       "    <tr>\n",
       "      <th>2005</th>\n",
       "      <td>2.3</td>\n",
       "      <td>90.3</td>\n",
       "      <td>0.0</td>\n",
       "      <td>2.8</td>\n",
       "      <td>0.0</td>\n",
       "      <td>41.3</td>\n",
       "      <td>2.5</td>\n",
       "      <td>370.8</td>\n",
       "      <td>10.2</td>\n",
       "      <td>773.2</td>\n",
       "      <td>...</td>\n",
       "      <td>22.7</td>\n",
       "      <td>0.0</td>\n",
       "      <td>0.0</td>\n",
       "      <td>6.1</td>\n",
       "      <td>0.0</td>\n",
       "      <td>0.0</td>\n",
       "      <td>384.8</td>\n",
       "      <td>0.0</td>\n",
       "      <td>30.1</td>\n",
       "      <td>0.2</td>\n",
       "    </tr>\n",
       "    <tr>\n",
       "      <th>2006</th>\n",
       "      <td>2.3</td>\n",
       "      <td>99.6</td>\n",
       "      <td>0.0</td>\n",
       "      <td>3.4</td>\n",
       "      <td>0.0</td>\n",
       "      <td>43.4</td>\n",
       "      <td>3.2</td>\n",
       "      <td>496.1</td>\n",
       "      <td>10.6</td>\n",
       "      <td>955.6</td>\n",
       "      <td>...</td>\n",
       "      <td>24.0</td>\n",
       "      <td>0.0</td>\n",
       "      <td>0.0</td>\n",
       "      <td>6.0</td>\n",
       "      <td>0.0</td>\n",
       "      <td>0.0</td>\n",
       "      <td>402.4</td>\n",
       "      <td>0.0</td>\n",
       "      <td>37.2</td>\n",
       "      <td>0.2</td>\n",
       "    </tr>\n",
       "    <tr>\n",
       "      <th>2007</th>\n",
       "      <td>6.3</td>\n",
       "      <td>105.7</td>\n",
       "      <td>0.0</td>\n",
       "      <td>5.1</td>\n",
       "      <td>0.0</td>\n",
       "      <td>53.6</td>\n",
       "      <td>4.0</td>\n",
       "      <td>603.2</td>\n",
       "      <td>11.6</td>\n",
       "      <td>1217.2</td>\n",
       "      <td>...</td>\n",
       "      <td>27.7</td>\n",
       "      <td>0.0</td>\n",
       "      <td>0.0</td>\n",
       "      <td>8.9</td>\n",
       "      <td>0.0</td>\n",
       "      <td>0.0</td>\n",
       "      <td>419.9</td>\n",
       "      <td>0.0</td>\n",
       "      <td>46.1</td>\n",
       "      <td>0.2</td>\n",
       "    </tr>\n",
       "    <tr>\n",
       "      <th>2008</th>\n",
       "      <td>6.5</td>\n",
       "      <td>117.0</td>\n",
       "      <td>0.0</td>\n",
       "      <td>9.5</td>\n",
       "      <td>0.0</td>\n",
       "      <td>56.3</td>\n",
       "      <td>6.0</td>\n",
       "      <td>766.1</td>\n",
       "      <td>12.6</td>\n",
       "      <td>1673.1</td>\n",
       "      <td>...</td>\n",
       "      <td>33.7</td>\n",
       "      <td>0.0</td>\n",
       "      <td>0.0</td>\n",
       "      <td>9.8</td>\n",
       "      <td>0.1</td>\n",
       "      <td>0.0</td>\n",
       "      <td>420.0</td>\n",
       "      <td>0.0</td>\n",
       "      <td>31.0</td>\n",
       "      <td>0.2</td>\n",
       "    </tr>\n",
       "    <tr>\n",
       "      <th>2009</th>\n",
       "      <td>6.6</td>\n",
       "      <td>127.9</td>\n",
       "      <td>0.0</td>\n",
       "      <td>25.4</td>\n",
       "      <td>0.3</td>\n",
       "      <td>58.2</td>\n",
       "      <td>14.0</td>\n",
       "      <td>1020.1</td>\n",
       "      <td>14.4</td>\n",
       "      <td>2436.7</td>\n",
       "      <td>...</td>\n",
       "      <td>48.7</td>\n",
       "      <td>0.1</td>\n",
       "      <td>0.0</td>\n",
       "      <td>10.5</td>\n",
       "      <td>7.9</td>\n",
       "      <td>0.0</td>\n",
       "      <td>428.8</td>\n",
       "      <td>0.0</td>\n",
       "      <td>34.9</td>\n",
       "      <td>0.2</td>\n",
       "    </tr>\n",
       "  </tbody>\n",
       "</table>\n",
       "<p>5 rows × 42 columns</p>\n",
       "</div>"
      ],
      "text/plain": [
       "index   AL     AT   BA    BE   BG    CY    CZ      DE    DK    EA19 ...   \\\n",
       "index                                                               ...    \n",
       "2005   2.3   90.3  0.0   2.8  0.0  41.3   2.5   370.8  10.2   773.2 ...    \n",
       "2006   2.3   99.6  0.0   3.4  0.0  43.4   3.2   496.1  10.6   955.6 ...    \n",
       "2007   6.3  105.7  0.0   5.1  0.0  53.6   4.0   603.2  11.6  1217.2 ...    \n",
       "2008   6.5  117.0  0.0   9.5  0.0  56.3   6.0   766.1  12.6  1673.1 ...    \n",
       "2009   6.6  127.9  0.0  25.4  0.3  58.2  14.0  1020.1  14.4  2436.7 ...    \n",
       "\n",
       "index    PT   RO   RS    SE   SI   SK     TR   UA    UK   XK  \n",
       "index                                                         \n",
       "2005   22.7  0.0  0.0   6.1  0.0  0.0  384.8  0.0  30.1  0.2  \n",
       "2006   24.0  0.0  0.0   6.0  0.0  0.0  402.4  0.0  37.2  0.2  \n",
       "2007   27.7  0.0  0.0   8.9  0.0  0.0  419.9  0.0  46.1  0.2  \n",
       "2008   33.7  0.0  0.0   9.8  0.1  0.0  420.0  0.0  31.0  0.2  \n",
       "2009   48.7  0.1  0.0  10.5  7.9  0.0  428.8  0.0  34.9  0.2  \n",
       "\n",
       "[5 rows x 42 columns]"
      ]
     },
     "execution_count": 18,
     "metadata": {},
     "output_type": "execute_result"
    }
   ],
   "source": [
    "solarProduction.head()"
   ]
  },
  {
   "cell_type": "markdown",
   "metadata": {},
   "source": [
    "Podemos ver que obtenemos una tabla similar a la que ya teníamos, esta vez con la producción de energía solar en cada país y cada año. \n",
    "\n",
    "* ¿En qué unidades están estos datos?"
   ]
  },
  {
   "cell_type": "code",
   "execution_count": null,
   "metadata": {},
   "outputs": [],
   "source": []
  },
  {
   "cell_type": "markdown",
   "metadata": {},
   "source": [
    "Veamos cual es la relación entre superficie instalada y producción en el año 2016. Para ello primero tenemos que quedarnos al igual que antes sólo con los datos de países."
   ]
  },
  {
   "cell_type": "code",
   "execution_count": 19,
   "metadata": {},
   "outputs": [],
   "source": [
    "countrySolarProduction = solarProduction.drop([\"EU28\", \"EA19\"], 1)"
   ]
  },
  {
   "cell_type": "code",
   "execution_count": 20,
   "metadata": {
    "scrolled": false
   },
   "outputs": [
    {
     "data": {
      "image/png": "[encoded data removed]",
      "text/plain": [
       "<matplotlib.figure.Figure at 0x11a0a4470>"
      ]
     },
     "metadata": {},
     "output_type": "display_data"
    }
   ],
   "source": [
    "plt.scatter(countrySurfaceData.loc[2016], countrySolarProduction.loc[2016], alpha=0.5)\n",
    "plt.title(\"Energía producida por superficie instalada en 2016\")\n",
    "plt.xlabel(\"Superficie instalada (1000 m^2)\")\n",
    "plt.ylabel(\"Energía producida (1000 TOE)\")\n",
    "plt.show()"
   ]
  },
  {
   "cell_type": "markdown",
   "metadata": {},
   "source": [
    "* ¿Sabrías decir cuales son los dos países a la derecha del gráfico?\n",
    "* ¿Dirías que existe una relación entre ambas variables?\n",
    "* ¿Qué otras visualizaciones serían interesantes de hacer con estos datos?"
   ]
  },
  {
   "cell_type": "code",
   "execution_count": null,
   "metadata": {},
   "outputs": [],
   "source": []
  },
  {
   "cell_type": "markdown",
   "metadata": {},
   "source": [
    "Finalizaremos esta práctica calculando la correlación entre las dos variables:"
   ]
  },
  {
   "cell_type": "code",
   "execution_count": 21,
   "metadata": {},
   "outputs": [
    {
     "data": {
      "text/plain": [
       "0.674601559153672"
      ]
     },
     "execution_count": 21,
     "metadata": {},
     "output_type": "execute_result"
    }
   ],
   "source": [
    "countrySurfaceData.loc[2016].corr(countrySolarProduction.loc[2016])"
   ]
  },
  {
   "cell_type": "markdown",
   "metadata": {},
   "source": [
    "* ¿Cómo interpretarías este resultado?"
   ]
  },
  {
   "cell_type": "code",
   "execution_count": null,
   "metadata": {},
   "outputs": [],
   "source": []
  },
  {
   "cell_type": "markdown",
   "metadata": {},
   "source": [
    "Podemos compararlo con otras correlaciones:"
   ]
  },
  {
   "cell_type": "code",
   "execution_count": 22,
   "metadata": {
    "scrolled": true
   },
   "outputs": [
    {
     "data": {
      "text/plain": [
       "0.9999999999999998"
      ]
     },
     "execution_count": 22,
     "metadata": {},
     "output_type": "execute_result"
    }
   ],
   "source": [
    "countrySurfaceData.loc[2016].corr(countrySurfaceData.loc[2016])"
   ]
  },
  {
   "cell_type": "code",
   "execution_count": 23,
   "metadata": {},
   "outputs": [
    {
     "data": {
      "image/png": "[encoded data removed]",
      "text/plain": [
       "<matplotlib.figure.Figure at 0x110e6d0b8>"
      ]
     },
     "metadata": {},
     "output_type": "display_data"
    }
   ],
   "source": [
    "plt.scatter(countrySurfaceData.loc[2016], countrySurfaceData.loc[2016], alpha=0.5)\n",
    "plt.title(\"Superficie instalada por superficie instalada en 2016\")\n",
    "plt.xlabel(\"Superficie instalada (1000 m^2)\")\n",
    "plt.ylabel(\"Superficie instalada (1000 m^2)\")\n",
    "plt.show()"
   ]
  },
  {
   "cell_type": "code",
   "execution_count": 24,
   "metadata": {
    "scrolled": true
   },
   "outputs": [
    {
     "data": {
      "text/plain": [
       "0.27333379636764904"
      ]
     },
     "execution_count": 24,
     "metadata": {},
     "output_type": "execute_result"
    }
   ],
   "source": [
    "countrySurfaceData.loc[1990].corr(countrySurfaceData.loc[2016])"
   ]
  },
  {
   "cell_type": "code",
   "execution_count": 25,
   "metadata": {
    "scrolled": true
   },
   "outputs": [
    {
     "data": {
      "image/png": "[encoded data removed]",
      "text/plain": [
       "<matplotlib.figure.Figure at 0x11a083080>"
      ]
     },
     "metadata": {},
     "output_type": "display_data"
    }
   ],
   "source": [
    "plt.scatter(countrySurfaceData.loc[1990], countrySurfaceData.loc[2016], alpha=0.5)\n",
    "plt.title(\"Superficie instalada en 2016 por superficie instalada en 1990\")\n",
    "plt.xlabel(\"Superficie instalada 1990 (1000 m^2)\")\n",
    "plt.ylabel(\"Superficie instalada 2016 (1000 m^2)\")\n",
    "plt.show()"
   ]
  },
  {
   "cell_type": "code",
   "execution_count": 26,
   "metadata": {},
   "outputs": [
    {
     "data": {
      "text/plain": [
       "0.904557177447557"
      ]
     },
     "execution_count": 26,
     "metadata": {},
     "output_type": "execute_result"
    }
   ],
   "source": [
    "countrySurfaceData.loc[2000].corr(countrySurfaceData.loc[2016])"
   ]
  },
  {
   "cell_type": "code",
   "execution_count": 27,
   "metadata": {},
   "outputs": [
    {
     "data": {
      "image/png": "[encoded data removed]",
      "text/plain": [
       "<matplotlib.figure.Figure at 0x11d3fd2b0>"
      ]
     },
     "metadata": {},
     "output_type": "display_data"
    }
   ],
   "source": [
    "plt.scatter(countrySurfaceData.loc[2000], countrySurfaceData.loc[2016], alpha=0.5)\n",
    "plt.title(\"Superficie instalada en 2016 por superficie instalada en 2000\")\n",
    "plt.xlabel(\"Superficie instalada 2000 (1000 m^2)\")\n",
    "plt.ylabel(\"Superficie instalada 2016 (1000 m^2)\")\n",
    "plt.show()"
   ]
  },
  {
   "cell_type": "code",
   "execution_count": 28,
   "metadata": {},
   "outputs": [
    {
     "data": {
      "text/plain": [
       "-0.14472667940498152"
      ]
     },
     "execution_count": 28,
     "metadata": {},
     "output_type": "execute_result"
    }
   ],
   "source": [
    "randomNumbers = pd.Series(np.random.randn(len(countrySurfaceData.loc[2016])), index=countrySurfaceData.loc[2016].index)\n",
    "countrySurfaceData.loc[2016].corr(randomNumbers)"
   ]
  },
  {
   "cell_type": "code",
   "execution_count": 29,
   "metadata": {},
   "outputs": [
    {
     "data": {
      "image/png": "[encoded data removed]",
      "text/plain": [
       "<matplotlib.figure.Figure at 0x11d4f7048>"
      ]
     },
     "metadata": {},
     "output_type": "display_data"
    }
   ],
   "source": [
    "plt.scatter(randomNumbers, countrySurfaceData.loc[2016], alpha=0.5)\n",
    "plt.title(\"Superficie instalada en 2016 por numeros aleatorios\")\n",
    "plt.xlabel(\"Numeros aleatorios\")\n",
    "plt.ylabel(\"Superficie instalada 2016 (1000 m^2)\")\n",
    "plt.show()"
   ]
  },
  {
   "cell_type": "markdown",
   "metadata": {},
   "source": [
    "Ahora ya dispones de las herramientas básicas para cargar datos en tu ordenador y empezar a hacer visualizaciones. Así que adelante:\n",
    "\n",
    "* Busca una base de datos que te interese, descárgala y crea tus propias visualizaciones.\n",
    "\n",
    "No olvides la Regla de oro una vez termines ;)"
   ]
  }
 ],
 "metadata": {
  "kernelspec": {
   "display_name": "Python 3",
   "language": "python",
   "name": "python3"
  },
  "language_info": {
   "codemirror_mode": {
    "name": "ipython",
    "version": 3
   },
   "file_extension": ".py",
   "mimetype": "text/x-python",
   "name": "python",
   "nbconvert_exporter": "python",
   "pygments_lexer": "ipython3",
   "version": "3.6.4"
  }
 },
 "nbformat": 4,
 "nbformat_minor": 2
}
